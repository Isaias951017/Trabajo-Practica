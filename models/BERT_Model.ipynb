{
  "cells": [
    {
      "cell_type": "code",
      "execution_count": 1,
      "id": "7b415d35",
      "metadata": {
        "id": "7b415d35"
      },
      "outputs": [
        {
          "name": "stderr",
          "output_type": "stream",
          "text": [
            "c:\\Users\\ISAIAS_QUINTERO\\Desktop\\Trabajo Practica\\venv\\lib\\site-packages\\transformers\\utils\\generic.py:441: FutureWarning: `torch.utils._pytree._register_pytree_node` is deprecated. Please use `torch.utils._pytree.register_pytree_node` instead.\n",
            "  _torch_pytree._register_pytree_node(\n",
            "c:\\Users\\ISAIAS_QUINTERO\\Desktop\\Trabajo Practica\\venv\\lib\\site-packages\\transformers\\utils\\generic.py:309: FutureWarning: `torch.utils._pytree._register_pytree_node` is deprecated. Please use `torch.utils._pytree.register_pytree_node` instead.\n",
            "  _torch_pytree._register_pytree_node(\n"
          ]
        }
      ],
      "source": [
        "from transformers import BertModel, BertTokenizer, AdamWeightDecay, get_linear_schedule_with_warmup\n",
        "import torch\n",
        "import numpy as np\n",
        "from sklearn.model_selection import train_test_split\n",
        "from torch import nn, optim\n",
        "from torch.utils.data import DataLoader, Dataset\n",
        "import pandas as pd\n",
        "from textwrap import wrap"
      ]
    },
    {
      "cell_type": "code",
      "execution_count": 2,
      "id": "91217330",
      "metadata": {
        "colab": {
          "base_uri": "https://localhost:8080/"
        },
        "id": "91217330",
        "outputId": "9f2a156b-3344-4c0e-e70d-f47459da869a"
      },
      "outputs": [
        {
          "name": "stdout",
          "output_type": "stream",
          "text": [
            "Using device: cpu\n"
          ]
        }
      ],
      "source": [
        "# Inicialization of the BERT model\n",
        "RANDOM_SEED = 42\n",
        "MAX_LEN = 200\n",
        "BATCH_SIZE = 16\n",
        "DATASET_PATH = \"/content/datos.xlsx\"\n",
        "NCLASS = 6\n",
        "\n",
        "np.random.seed(RANDOM_SEED)\n",
        "torch.manual_seed(RANDOM_SEED)\n",
        "device = torch.device(\"cuda:0\" if torch.cuda.is_available() else \"cpu\")\n",
        "print(f\"Using device: {device}\")"
      ]
    },
    {
      "cell_type": "code",
      "execution_count": 3,
      "id": "302ae9b5",
      "metadata": {
        "colab": {
          "base_uri": "https://localhost:8080/",
          "height": 206
        },
        "id": "302ae9b5",
        "outputId": "9d0c0a0f-bc04-4476-cfeb-ac31907d4843"
      },
      "outputs": [
        {
          "data": {
            "text/html": [
              "<div>\n",
              "<style scoped>\n",
              "    .dataframe tbody tr th:only-of-type {\n",
              "        vertical-align: middle;\n",
              "    }\n",
              "\n",
              "    .dataframe tbody tr th {\n",
              "        vertical-align: top;\n",
              "    }\n",
              "\n",
              "    .dataframe thead th {\n",
              "        text-align: right;\n",
              "    }\n",
              "</style>\n",
              "<table border=\"1\" class=\"dataframe\">\n",
              "  <thead>\n",
              "    <tr style=\"text-align: right;\">\n",
              "      <th></th>\n",
              "      <th>SEXO</th>\n",
              "      <th>EDAD</th>\n",
              "      <th>GRUPO</th>\n",
              "      <th>ESPECIALIDAD_MEDICA</th>\n",
              "      <th>SUBJETIVO</th>\n",
              "      <th>OBJETIVO</th>\n",
              "      <th>Concatenada</th>\n",
              "      <th>Label_Grupo</th>\n",
              "      <th>Concatenado1</th>\n",
              "    </tr>\n",
              "  </thead>\n",
              "  <tbody>\n",
              "    <tr>\n",
              "      <th>0</th>\n",
              "      <td>Femenino</td>\n",
              "      <td>38</td>\n",
              "      <td>Otros Trastornos</td>\n",
              "      <td>PSICOLOGÍA</td>\n",
              "      <td>Paciente refiere: \"Me empezaron a dar como uno...</td>\n",
              "      <td>Paciente alerta, colaboradora con apariencia o...</td>\n",
              "      <td>[empezar, episodio, tom, pastilla, dormir, ten...</td>\n",
              "      <td>0</td>\n",
              "      <td>empezar episodio tom pastilla dormir tener pro...</td>\n",
              "    </tr>\n",
              "    <tr>\n",
              "      <th>1</th>\n",
              "      <td>Masculino</td>\n",
              "      <td>22</td>\n",
              "      <td>T. Externalizantes</td>\n",
              "      <td>PSICOLOGÍA</td>\n",
              "      <td>Paciente refiere \"Me he sentido muy mal, en el...</td>\n",
              "      <td>Paciente a quien evaluó por primera vez, alert...</td>\n",
              "      <td>[sentido, trabajar, concentrar yo, cosa, vidat...</td>\n",
              "      <td>2</td>\n",
              "      <td>sentido trabajar concentrar yo cosa vidatodo d...</td>\n",
              "    </tr>\n",
              "    <tr>\n",
              "      <th>2</th>\n",
              "      <td>Masculino</td>\n",
              "      <td>9</td>\n",
              "      <td>Otros Trastornos</td>\n",
              "      <td>PSICOLOGÍA</td>\n",
              "      <td>La madre refiere \"el viene por un acompañamien...</td>\n",
              "      <td>None</td>\n",
              "      <td>[madre, venir, acompañamiento, emocional, sepr...</td>\n",
              "      <td>0</td>\n",
              "      <td>madre venir acompañamiento emocional sepracion...</td>\n",
              "    </tr>\n",
              "    <tr>\n",
              "      <th>3</th>\n",
              "      <td>Masculino</td>\n",
              "      <td>28</td>\n",
              "      <td>Otros Trastornos</td>\n",
              "      <td>PSICOLOGÍA</td>\n",
              "      <td>Paciente refiere \"Estas cosas que han pasado m...</td>\n",
              "      <td>Paciente quien evalúo por primera vez, alerta,...</td>\n",
              "      <td>[cosa, problema, empresa, ocasión, saludar, sa...</td>\n",
              "      <td>0</td>\n",
              "      <td>cosa problema empresa ocasión saludar saludo e...</td>\n",
              "    </tr>\n",
              "    <tr>\n",
              "      <th>4</th>\n",
              "      <td>Femenino</td>\n",
              "      <td>8</td>\n",
              "      <td>Otros Trastornos</td>\n",
              "      <td>PSICOLOGÍA</td>\n",
              "      <td>La madre refiere \"Ella ha manifestado ciertas ...</td>\n",
              "      <td>Paciente ingresa en compañía de la madre, aler...</td>\n",
              "      <td>[madre, manifestado, conducta, palabrasella, r...</td>\n",
              "      <td>0</td>\n",
              "      <td>madre manifestado conducta palabrasella relaci...</td>\n",
              "    </tr>\n",
              "  </tbody>\n",
              "</table>\n",
              "</div>"
            ],
            "text/plain": [
              "        SEXO  EDAD               GRUPO ESPECIALIDAD_MEDICA  \\\n",
              "0   Femenino    38    Otros Trastornos          PSICOLOGÍA   \n",
              "1  Masculino    22  T. Externalizantes          PSICOLOGÍA   \n",
              "2  Masculino     9    Otros Trastornos          PSICOLOGÍA   \n",
              "3  Masculino    28    Otros Trastornos          PSICOLOGÍA   \n",
              "4   Femenino     8    Otros Trastornos          PSICOLOGÍA   \n",
              "\n",
              "                                           SUBJETIVO  \\\n",
              "0  Paciente refiere: \"Me empezaron a dar como uno...   \n",
              "1  Paciente refiere \"Me he sentido muy mal, en el...   \n",
              "2  La madre refiere \"el viene por un acompañamien...   \n",
              "3  Paciente refiere \"Estas cosas que han pasado m...   \n",
              "4  La madre refiere \"Ella ha manifestado ciertas ...   \n",
              "\n",
              "                                            OBJETIVO  \\\n",
              "0  Paciente alerta, colaboradora con apariencia o...   \n",
              "1  Paciente a quien evaluó por primera vez, alert...   \n",
              "2                                               None   \n",
              "3  Paciente quien evalúo por primera vez, alerta,...   \n",
              "4  Paciente ingresa en compañía de la madre, aler...   \n",
              "\n",
              "                                         Concatenada  Label_Grupo  \\\n",
              "0  [empezar, episodio, tom, pastilla, dormir, ten...            0   \n",
              "1  [sentido, trabajar, concentrar yo, cosa, vidat...            2   \n",
              "2  [madre, venir, acompañamiento, emocional, sepr...            0   \n",
              "3  [cosa, problema, empresa, ocasión, saludar, sa...            0   \n",
              "4  [madre, manifestado, conducta, palabrasella, r...            0   \n",
              "\n",
              "                                        Concatenado1  \n",
              "0  empezar episodio tom pastilla dormir tener pro...  \n",
              "1  sentido trabajar concentrar yo cosa vidatodo d...  \n",
              "2  madre venir acompañamiento emocional sepracion...  \n",
              "3  cosa problema empresa ocasión saludar saludo e...  \n",
              "4  madre manifestado conducta palabrasella relaci...  "
            ]
          },
          "execution_count": 3,
          "metadata": {},
          "output_type": "execute_result"
        }
      ],
      "source": [
        "# Cargar dataset\n",
        "\n",
        "df = pd.read_parquet(r\"C:\\Users\\ISAIAS_QUINTERO\\Desktop\\Trabajo Practica\\datos_modelo.parquet\")\n",
        "df.head()\n"
      ]
    },
    {
      "cell_type": "code",
      "execution_count": 4,
      "id": "688c3164",
      "metadata": {
        "colab": {
          "base_uri": "https://localhost:8080/"
        },
        "id": "688c3164",
        "outputId": "28022609-a5ed-47d7-faa2-cd8a906d8d0f"
      },
      "outputs": [
        {
          "name": "stdout",
          "output_type": "stream",
          "text": [
            "<class 'pandas.core.frame.DataFrame'>\n",
            "RangeIndex: 1000 entries, 0 to 999\n",
            "Data columns (total 9 columns):\n",
            " #   Column               Non-Null Count  Dtype \n",
            "---  ------               --------------  ----- \n",
            " 0   SEXO                 1000 non-null   object\n",
            " 1   EDAD                 1000 non-null   int64 \n",
            " 2   GRUPO                1000 non-null   object\n",
            " 3   ESPECIALIDAD_MEDICA  1000 non-null   object\n",
            " 4   SUBJETIVO            956 non-null    object\n",
            " 5   OBJETIVO             984 non-null    object\n",
            " 6   Concatenada          1000 non-null   object\n",
            " 7   Label_Grupo          1000 non-null   int32 \n",
            " 8   Concatenado1         1000 non-null   object\n",
            "dtypes: int32(1), int64(1), object(7)\n",
            "memory usage: 66.5+ KB\n"
          ]
        }
      ],
      "source": [
        "df.info()"
      ]
    },
    {
      "cell_type": "code",
      "execution_count": 5,
      "id": "10d28a31",
      "metadata": {
        "colab": {
          "base_uri": "https://localhost:8080/"
        },
        "id": "10d28a31",
        "outputId": "f1edeab3-1e9a-468d-964e-f6e7c515999f"
      },
      "outputs": [
        {
          "name": "stdout",
          "output_type": "stream",
          "text": [
            "<class 'pandas.core.frame.DataFrame'>\n",
            "Int64Index: 943 entries, 0 to 999\n",
            "Data columns (total 9 columns):\n",
            " #   Column               Non-Null Count  Dtype \n",
            "---  ------               --------------  ----- \n",
            " 0   SEXO                 943 non-null    object\n",
            " 1   EDAD                 943 non-null    int64 \n",
            " 2   GRUPO                943 non-null    object\n",
            " 3   ESPECIALIDAD_MEDICA  943 non-null    object\n",
            " 4   SUBJETIVO            943 non-null    object\n",
            " 5   OBJETIVO             943 non-null    object\n",
            " 6   Concatenada          943 non-null    object\n",
            " 7   Label_Grupo          943 non-null    int32 \n",
            " 8   Concatenado1         943 non-null    object\n",
            "dtypes: int32(1), int64(1), object(7)\n",
            "memory usage: 70.0+ KB\n"
          ]
        }
      ],
      "source": [
        "# Eliminamos filas con valores nulos\n",
        "df = df.dropna()\n",
        "df.info()"
      ]
    },
    {
      "cell_type": "code",
      "execution_count": 6,
      "id": "acd03ce6",
      "metadata": {
        "colab": {
          "base_uri": "https://localhost:8080/",
          "height": 363
        },
        "id": "acd03ce6",
        "outputId": "f450563a-07f2-440d-e31e-0924198be86f"
      },
      "outputs": [
        {
          "data": {
            "text/html": [
              "<div>\n",
              "<style scoped>\n",
              "    .dataframe tbody tr th:only-of-type {\n",
              "        vertical-align: middle;\n",
              "    }\n",
              "\n",
              "    .dataframe tbody tr th {\n",
              "        vertical-align: top;\n",
              "    }\n",
              "\n",
              "    .dataframe thead th {\n",
              "        text-align: right;\n",
              "    }\n",
              "</style>\n",
              "<table border=\"1\" class=\"dataframe\">\n",
              "  <thead>\n",
              "    <tr style=\"text-align: right;\">\n",
              "      <th></th>\n",
              "      <th>SEXO</th>\n",
              "      <th>EDAD</th>\n",
              "      <th>GRUPO</th>\n",
              "      <th>ESPECIALIDAD_MEDICA</th>\n",
              "      <th>SUBJETIVO</th>\n",
              "      <th>OBJETIVO</th>\n",
              "      <th>Concatenada</th>\n",
              "      <th>Label_Grupo</th>\n",
              "      <th>Concatenado1</th>\n",
              "    </tr>\n",
              "  </thead>\n",
              "  <tbody>\n",
              "    <tr>\n",
              "      <th>0</th>\n",
              "      <td>Femenino</td>\n",
              "      <td>38</td>\n",
              "      <td>Otros Trastornos</td>\n",
              "      <td>PSICOLOGÍA</td>\n",
              "      <td>Paciente refiere: \"Me empezaron a dar como uno...</td>\n",
              "      <td>Paciente alerta, colaboradora con apariencia o...</td>\n",
              "      <td>[empezar, episodio, tom, pastilla, dormir, ten...</td>\n",
              "      <td>0</td>\n",
              "      <td>empezar episodio tom pastilla dormir tener pro...</td>\n",
              "    </tr>\n",
              "    <tr>\n",
              "      <th>1</th>\n",
              "      <td>Masculino</td>\n",
              "      <td>22</td>\n",
              "      <td>T. Externalizantes</td>\n",
              "      <td>PSICOLOGÍA</td>\n",
              "      <td>Paciente refiere \"Me he sentido muy mal, en el...</td>\n",
              "      <td>Paciente a quien evaluó por primera vez, alert...</td>\n",
              "      <td>[sentido, trabajar, concentrar yo, cosa, vidat...</td>\n",
              "      <td>2</td>\n",
              "      <td>sentido trabajar concentrar yo cosa vidatodo d...</td>\n",
              "    </tr>\n",
              "    <tr>\n",
              "      <th>3</th>\n",
              "      <td>Masculino</td>\n",
              "      <td>28</td>\n",
              "      <td>Otros Trastornos</td>\n",
              "      <td>PSICOLOGÍA</td>\n",
              "      <td>Paciente refiere \"Estas cosas que han pasado m...</td>\n",
              "      <td>Paciente quien evalúo por primera vez, alerta,...</td>\n",
              "      <td>[cosa, problema, empresa, ocasión, saludar, sa...</td>\n",
              "      <td>0</td>\n",
              "      <td>cosa problema empresa ocasión saludar saludo e...</td>\n",
              "    </tr>\n",
              "    <tr>\n",
              "      <th>4</th>\n",
              "      <td>Femenino</td>\n",
              "      <td>8</td>\n",
              "      <td>Otros Trastornos</td>\n",
              "      <td>PSICOLOGÍA</td>\n",
              "      <td>La madre refiere \"Ella ha manifestado ciertas ...</td>\n",
              "      <td>Paciente ingresa en compañía de la madre, aler...</td>\n",
              "      <td>[madre, manifestado, conducta, palabrasella, r...</td>\n",
              "      <td>0</td>\n",
              "      <td>madre manifestado conducta palabrasella relaci...</td>\n",
              "    </tr>\n",
              "    <tr>\n",
              "      <th>5</th>\n",
              "      <td>Masculino</td>\n",
              "      <td>30</td>\n",
              "      <td>T. Externalizantes</td>\n",
              "      <td>PSICOLOGÍA</td>\n",
              "      <td>Paciente refiere \"yo creo como todo comienza d...</td>\n",
              "      <td>Paciente quien evalúo por primera vez,  pacien...</td>\n",
              "      <td>[comenzar, crianza, mama, diagnostico, tab, se...</td>\n",
              "      <td>2</td>\n",
              "      <td>comenzar crianza mama diagnostico tab sentir c...</td>\n",
              "    </tr>\n",
              "    <tr>\n",
              "      <th>6</th>\n",
              "      <td>Femenino</td>\n",
              "      <td>60</td>\n",
              "      <td>Otros Trastornos</td>\n",
              "      <td>PSICOLOGÍA</td>\n",
              "      <td>Paciente refiere \"hace 3 años me separe, hace ...</td>\n",
              "      <td>Paciente quien evalúo por primera vez, pacient...</td>\n",
              "      <td>[año, separar, año, hija, tambin, trabajar, fu...</td>\n",
              "      <td>0</td>\n",
              "      <td>año separar año hija tambin trabajar fuerame s...</td>\n",
              "    </tr>\n",
              "    <tr>\n",
              "      <th>7</th>\n",
              "      <td>Masculino</td>\n",
              "      <td>57</td>\n",
              "      <td>Otros Trastornos</td>\n",
              "      <td>PSICOLOGÍA</td>\n",
              "      <td>Paciente refiere \"Yo he sido muy introvertido,...</td>\n",
              "      <td>Paciente quien evalúo por primera vez, pacient...</td>\n",
              "      <td>[introvertido, expresar, sentimiento, tragar, ...</td>\n",
              "      <td>0</td>\n",
              "      <td>introvertido expresar sentimiento tragar indep...</td>\n",
              "    </tr>\n",
              "    <tr>\n",
              "      <th>8</th>\n",
              "      <td>Femenino</td>\n",
              "      <td>25</td>\n",
              "      <td>T. Externalizantes</td>\n",
              "      <td>PSICOLOGÍA</td>\n",
              "      <td>Hace un mes empece a sentir ansiedad, tuve com...</td>\n",
              "      <td>Paciente quien evalúo por primera vez, pacient...</td>\n",
              "      <td>[mes, empece, sentir, ansiedad, tener, semana,...</td>\n",
              "      <td>2</td>\n",
              "      <td>mes empece sentir ansiedad tener semana tenia ...</td>\n",
              "    </tr>\n",
              "    <tr>\n",
              "      <th>9</th>\n",
              "      <td>Femenino</td>\n",
              "      <td>40</td>\n",
              "      <td>Otros Trastornos</td>\n",
              "      <td>PSICOLOGÍA</td>\n",
              "      <td>Paciente refiere \"en los 15 de mi prima yo le ...</td>\n",
              "      <td>Paciente quien evalúo por primera vez, la cons...</td>\n",
              "      <td>[prima, llevar, comida, tiro, marco, tambin, r...</td>\n",
              "      <td>0</td>\n",
              "      <td>prima llevar comida tiro marco tambin rabia co...</td>\n",
              "    </tr>\n",
              "    <tr>\n",
              "      <th>10</th>\n",
              "      <td>Masculino</td>\n",
              "      <td>31</td>\n",
              "      <td>Otros Trastornos</td>\n",
              "      <td>PSICOLOGÍA</td>\n",
              "      <td>Paciente refiere:\\n\"Luego de ruptura con mi ex...</td>\n",
              "      <td>Paciente alerta y consciente, orientado en per...</td>\n",
              "      <td>[refiereluego, ruptura, exparejo, detonar, pro...</td>\n",
              "      <td>0</td>\n",
              "      <td>refiereluego ruptura exparejo detonar problema...</td>\n",
              "    </tr>\n",
              "  </tbody>\n",
              "</table>\n",
              "</div>"
            ],
            "text/plain": [
              "         SEXO  EDAD               GRUPO ESPECIALIDAD_MEDICA  \\\n",
              "0    Femenino    38    Otros Trastornos          PSICOLOGÍA   \n",
              "1   Masculino    22  T. Externalizantes          PSICOLOGÍA   \n",
              "3   Masculino    28    Otros Trastornos          PSICOLOGÍA   \n",
              "4    Femenino     8    Otros Trastornos          PSICOLOGÍA   \n",
              "5   Masculino    30  T. Externalizantes          PSICOLOGÍA   \n",
              "6    Femenino    60    Otros Trastornos          PSICOLOGÍA   \n",
              "7   Masculino    57    Otros Trastornos          PSICOLOGÍA   \n",
              "8    Femenino    25  T. Externalizantes          PSICOLOGÍA   \n",
              "9    Femenino    40    Otros Trastornos          PSICOLOGÍA   \n",
              "10  Masculino    31    Otros Trastornos          PSICOLOGÍA   \n",
              "\n",
              "                                            SUBJETIVO  \\\n",
              "0   Paciente refiere: \"Me empezaron a dar como uno...   \n",
              "1   Paciente refiere \"Me he sentido muy mal, en el...   \n",
              "3   Paciente refiere \"Estas cosas que han pasado m...   \n",
              "4   La madre refiere \"Ella ha manifestado ciertas ...   \n",
              "5   Paciente refiere \"yo creo como todo comienza d...   \n",
              "6   Paciente refiere \"hace 3 años me separe, hace ...   \n",
              "7   Paciente refiere \"Yo he sido muy introvertido,...   \n",
              "8   Hace un mes empece a sentir ansiedad, tuve com...   \n",
              "9   Paciente refiere \"en los 15 de mi prima yo le ...   \n",
              "10  Paciente refiere:\\n\"Luego de ruptura con mi ex...   \n",
              "\n",
              "                                             OBJETIVO  \\\n",
              "0   Paciente alerta, colaboradora con apariencia o...   \n",
              "1   Paciente a quien evaluó por primera vez, alert...   \n",
              "3   Paciente quien evalúo por primera vez, alerta,...   \n",
              "4   Paciente ingresa en compañía de la madre, aler...   \n",
              "5   Paciente quien evalúo por primera vez,  pacien...   \n",
              "6   Paciente quien evalúo por primera vez, pacient...   \n",
              "7   Paciente quien evalúo por primera vez, pacient...   \n",
              "8   Paciente quien evalúo por primera vez, pacient...   \n",
              "9   Paciente quien evalúo por primera vez, la cons...   \n",
              "10  Paciente alerta y consciente, orientado en per...   \n",
              "\n",
              "                                          Concatenada  Label_Grupo  \\\n",
              "0   [empezar, episodio, tom, pastilla, dormir, ten...            0   \n",
              "1   [sentido, trabajar, concentrar yo, cosa, vidat...            2   \n",
              "3   [cosa, problema, empresa, ocasión, saludar, sa...            0   \n",
              "4   [madre, manifestado, conducta, palabrasella, r...            0   \n",
              "5   [comenzar, crianza, mama, diagnostico, tab, se...            2   \n",
              "6   [año, separar, año, hija, tambin, trabajar, fu...            0   \n",
              "7   [introvertido, expresar, sentimiento, tragar, ...            0   \n",
              "8   [mes, empece, sentir, ansiedad, tener, semana,...            2   \n",
              "9   [prima, llevar, comida, tiro, marco, tambin, r...            0   \n",
              "10  [refiereluego, ruptura, exparejo, detonar, pro...            0   \n",
              "\n",
              "                                         Concatenado1  \n",
              "0   empezar episodio tom pastilla dormir tener pro...  \n",
              "1   sentido trabajar concentrar yo cosa vidatodo d...  \n",
              "3   cosa problema empresa ocasión saludar saludo e...  \n",
              "4   madre manifestado conducta palabrasella relaci...  \n",
              "5   comenzar crianza mama diagnostico tab sentir c...  \n",
              "6   año separar año hija tambin trabajar fuerame s...  \n",
              "7   introvertido expresar sentimiento tragar indep...  \n",
              "8   mes empece sentir ansiedad tener semana tenia ...  \n",
              "9   prima llevar comida tiro marco tambin rabia co...  \n",
              "10  refiereluego ruptura exparejo detonar problema...  "
            ]
          },
          "execution_count": 6,
          "metadata": {},
          "output_type": "execute_result"
        }
      ],
      "source": [
        "df.head(10)"
      ]
    },
    {
      "cell_type": "code",
      "execution_count": 7,
      "id": "b8ec03ec",
      "metadata": {
        "id": "b8ec03ec"
      },
      "outputs": [
        {
          "name": "stderr",
          "output_type": "stream",
          "text": [
            "c:\\Users\\ISAIAS_QUINTERO\\Desktop\\Trabajo Practica\\venv\\lib\\site-packages\\huggingface_hub\\file_download.py:896: FutureWarning: `resume_download` is deprecated and will be removed in version 1.0.0. Downloads always resume when possible. If you want to force a new download, use `force_download=True`.\n",
            "  warnings.warn(\n"
          ]
        }
      ],
      "source": [
        "from transformers import BertTokenizer, BertModel\n",
        "\n",
        "# TOKENIZACION\n",
        "\n",
        "PRE_TRAINED_MODEL_NAME = \"bert-base-multilingual-cased\"\n",
        "tokenizer = BertTokenizer.from_pretrained(PRE_TRAINED_MODEL_NAME)"
      ]
    },
    {
      "cell_type": "code",
      "execution_count": 8,
      "id": "f5bc9d24",
      "metadata": {
        "colab": {
          "base_uri": "https://localhost:8080/"
        },
        "id": "f5bc9d24",
        "outputId": "66cde776-957b-4fe0-cc69-babc55ea844e"
      },
      "outputs": [
        {
          "name": "stdout",
          "output_type": "stream",
          "text": [
            "Texto original: Hola soy un texto de ejemplo para la tokenización.\n",
            "Tokens: ['Ho', '##la', 'soy', 'un', 'texto', 'de', 'ejemplo', 'para', 'la', 'tok', '##eni', '##zación', '.']\n",
            "IDs de tokens: [20220, 10330, 103559, 10119, 27888, 10104, 20223, 10220, 10109, 18436, 18687, 23700, 119]\n"
          ]
        }
      ],
      "source": [
        "# Ejemplos de tokenización\n",
        "\n",
        "sample_text = \"Hola soy un texto de ejemplo para la tokenización.\"\n",
        "tokens = tokenizer.tokenize(sample_text)\n",
        "tokens_ids = tokenizer.convert_tokens_to_ids(tokens)\n",
        "print(f\"Texto original: {sample_text}\")\n",
        "print(f\"Tokens: {tokens}\")\n",
        "print(f\"IDs de tokens: {tokens_ids}\")"
      ]
    },
    {
      "cell_type": "code",
      "execution_count": 9,
      "id": "40261280",
      "metadata": {},
      "outputs": [
        {
          "name": "stdout",
          "output_type": "stream",
          "text": [
            "2.4.1+cpu\n",
            "False\n"
          ]
        }
      ],
      "source": [
        "import torch\n",
        "print(torch.__version__)\n",
        "print(torch.cuda.is_available())"
      ]
    },
    {
      "cell_type": "code",
      "execution_count": 10,
      "id": "ababcc13",
      "metadata": {
        "id": "ababcc13"
      },
      "outputs": [
        {
          "name": "stdout",
          "output_type": "stream",
          "text": [
            "Requirement already satisfied: torch in c:\\users\\isaias_quintero\\desktop\\trabajo practica\\venv\\lib\\site-packages (2.4.1)\n",
            "Requirement already satisfied: filelock in c:\\users\\isaias_quintero\\desktop\\trabajo practica\\venv\\lib\\site-packages (from torch) (3.16.1)\n",
            "Requirement already satisfied: typing-extensions>=4.8.0 in c:\\users\\isaias_quintero\\desktop\\trabajo practica\\venv\\lib\\site-packages (from torch) (4.12.2)\n",
            "Requirement already satisfied: sympy in c:\\users\\isaias_quintero\\desktop\\trabajo practica\\venv\\lib\\site-packages (from torch) (1.13.3)\n",
            "Requirement already satisfied: networkx in c:\\users\\isaias_quintero\\desktop\\trabajo practica\\venv\\lib\\site-packages (from torch) (3.1)\n",
            "Requirement already satisfied: jinja2 in c:\\users\\isaias_quintero\\desktop\\trabajo practica\\venv\\lib\\site-packages (from torch) (3.1.6)\n",
            "Requirement already satisfied: fsspec in c:\\users\\isaias_quintero\\desktop\\trabajo practica\\venv\\lib\\site-packages (from torch) (2025.3.0)\n",
            "Requirement already satisfied: MarkupSafe>=2.0 in c:\\users\\isaias_quintero\\desktop\\trabajo practica\\venv\\lib\\site-packages (from jinja2->torch) (2.1.5)\n",
            "Requirement already satisfied: mpmath<1.4,>=1.1.0 in c:\\users\\isaias_quintero\\desktop\\trabajo practica\\venv\\lib\\site-packages (from sympy->torch) (1.3.0)\n",
            "Note: you may need to restart the kernel to use updated packages.\n"
          ]
        }
      ],
      "source": [
        "# Instala PyTorch si no está instalado\n",
        "%pip install torch\n",
        "\n",
        "# Codificacion para introducir a BERT\n",
        "\n",
        "encoding = tokenizer.encode_plus(\n",
        "    sample_text,\n",
        "    add_special_tokens=True,\n",
        "    max_length=MAX_LEN,\n",
        "    return_token_type_ids=False,\n",
        "    padding=\"max_length\",\n",
        "    truncation=True,\n",
        "    return_attention_mask=True,\n",
        "    return_tensors=\"pt\",\n",
        ")"
      ]
    },
    {
      "cell_type": "code",
      "execution_count": 11,
      "id": "10d13546",
      "metadata": {
        "colab": {
          "base_uri": "https://localhost:8080/"
        },
        "id": "10d13546",
        "outputId": "6e3f7314-2b94-4e71-efc6-7af46de5d009"
      },
      "outputs": [
        {
          "data": {
            "text/plain": [
              "dict_keys(['input_ids', 'attention_mask'])"
            ]
          },
          "execution_count": 11,
          "metadata": {},
          "output_type": "execute_result"
        }
      ],
      "source": [
        "encoding.keys()"
      ]
    },
    {
      "cell_type": "code",
      "execution_count": 12,
      "id": "b4c52761",
      "metadata": {
        "colab": {
          "base_uri": "https://localhost:8080/"
        },
        "id": "b4c52761",
        "outputId": "4b737e2e-da97-463b-8440-9d5c79d03e84"
      },
      "outputs": [
        {
          "name": "stdout",
          "output_type": "stream",
          "text": [
            "['[CLS]', 'Ho', '##la', 'soy', 'un', 'texto', 'de', 'ejemplo', 'para', 'la', 'tok', '##eni', '##zación', '.', '[SEP]', '[PAD]', '[PAD]', '[PAD]', '[PAD]', '[PAD]', '[PAD]', '[PAD]', '[PAD]', '[PAD]', '[PAD]', '[PAD]', '[PAD]', '[PAD]', '[PAD]', '[PAD]', '[PAD]', '[PAD]', '[PAD]', '[PAD]', '[PAD]', '[PAD]', '[PAD]', '[PAD]', '[PAD]', '[PAD]', '[PAD]', '[PAD]', '[PAD]', '[PAD]', '[PAD]', '[PAD]', '[PAD]', '[PAD]', '[PAD]', '[PAD]', '[PAD]', '[PAD]', '[PAD]', '[PAD]', '[PAD]', '[PAD]', '[PAD]', '[PAD]', '[PAD]', '[PAD]', '[PAD]', '[PAD]', '[PAD]', '[PAD]', '[PAD]', '[PAD]', '[PAD]', '[PAD]', '[PAD]', '[PAD]', '[PAD]', '[PAD]', '[PAD]', '[PAD]', '[PAD]', '[PAD]', '[PAD]', '[PAD]', '[PAD]', '[PAD]', '[PAD]', '[PAD]', '[PAD]', '[PAD]', '[PAD]', '[PAD]', '[PAD]', '[PAD]', '[PAD]', '[PAD]', '[PAD]', '[PAD]', '[PAD]', '[PAD]', '[PAD]', '[PAD]', '[PAD]', '[PAD]', '[PAD]', '[PAD]', '[PAD]', '[PAD]', '[PAD]', '[PAD]', '[PAD]', '[PAD]', '[PAD]', '[PAD]', '[PAD]', '[PAD]', '[PAD]', '[PAD]', '[PAD]', '[PAD]', '[PAD]', '[PAD]', '[PAD]', '[PAD]', '[PAD]', '[PAD]', '[PAD]', '[PAD]', '[PAD]', '[PAD]', '[PAD]', '[PAD]', '[PAD]', '[PAD]', '[PAD]', '[PAD]', '[PAD]', '[PAD]', '[PAD]', '[PAD]', '[PAD]', '[PAD]', '[PAD]', '[PAD]', '[PAD]', '[PAD]', '[PAD]', '[PAD]', '[PAD]', '[PAD]', '[PAD]', '[PAD]', '[PAD]', '[PAD]', '[PAD]', '[PAD]', '[PAD]', '[PAD]', '[PAD]', '[PAD]', '[PAD]', '[PAD]', '[PAD]', '[PAD]', '[PAD]', '[PAD]', '[PAD]', '[PAD]', '[PAD]', '[PAD]', '[PAD]', '[PAD]', '[PAD]', '[PAD]', '[PAD]', '[PAD]', '[PAD]', '[PAD]', '[PAD]', '[PAD]', '[PAD]', '[PAD]', '[PAD]', '[PAD]', '[PAD]', '[PAD]', '[PAD]', '[PAD]', '[PAD]', '[PAD]', '[PAD]', '[PAD]', '[PAD]', '[PAD]', '[PAD]', '[PAD]', '[PAD]', '[PAD]', '[PAD]', '[PAD]', '[PAD]', '[PAD]', '[PAD]', '[PAD]', '[PAD]', '[PAD]']\n",
            "tensor([   101,  20220,  10330, 103559,  10119,  27888,  10104,  20223,  10220,\n",
            "         10109,  18436,  18687,  23700,    119,    102,      0,      0,      0,\n",
            "             0,      0,      0,      0,      0,      0,      0,      0,      0,\n",
            "             0,      0,      0,      0,      0,      0,      0,      0,      0,\n",
            "             0,      0,      0,      0,      0,      0,      0,      0,      0,\n",
            "             0,      0,      0,      0,      0,      0,      0,      0,      0,\n",
            "             0,      0,      0,      0,      0,      0,      0,      0,      0,\n",
            "             0,      0,      0,      0,      0,      0,      0,      0,      0,\n",
            "             0,      0,      0,      0,      0,      0,      0,      0,      0,\n",
            "             0,      0,      0,      0,      0,      0,      0,      0,      0,\n",
            "             0,      0,      0,      0,      0,      0,      0,      0,      0,\n",
            "             0,      0,      0,      0,      0,      0,      0,      0,      0,\n",
            "             0,      0,      0,      0,      0,      0,      0,      0,      0,\n",
            "             0,      0,      0,      0,      0,      0,      0,      0,      0,\n",
            "             0,      0,      0,      0,      0,      0,      0,      0,      0,\n",
            "             0,      0,      0,      0,      0,      0,      0,      0,      0,\n",
            "             0,      0,      0,      0,      0,      0,      0,      0,      0,\n",
            "             0,      0,      0,      0,      0,      0,      0,      0,      0,\n",
            "             0,      0,      0,      0,      0,      0,      0,      0,      0,\n",
            "             0,      0,      0,      0,      0,      0,      0,      0,      0,\n",
            "             0,      0,      0,      0,      0,      0,      0,      0,      0,\n",
            "             0,      0,      0,      0,      0,      0,      0,      0,      0,\n",
            "             0,      0])\n",
            "tensor([1, 1, 1, 1, 1, 1, 1, 1, 1, 1, 1, 1, 1, 1, 1, 0, 0, 0, 0, 0, 0, 0, 0, 0,\n",
            "        0, 0, 0, 0, 0, 0, 0, 0, 0, 0, 0, 0, 0, 0, 0, 0, 0, 0, 0, 0, 0, 0, 0, 0,\n",
            "        0, 0, 0, 0, 0, 0, 0, 0, 0, 0, 0, 0, 0, 0, 0, 0, 0, 0, 0, 0, 0, 0, 0, 0,\n",
            "        0, 0, 0, 0, 0, 0, 0, 0, 0, 0, 0, 0, 0, 0, 0, 0, 0, 0, 0, 0, 0, 0, 0, 0,\n",
            "        0, 0, 0, 0, 0, 0, 0, 0, 0, 0, 0, 0, 0, 0, 0, 0, 0, 0, 0, 0, 0, 0, 0, 0,\n",
            "        0, 0, 0, 0, 0, 0, 0, 0, 0, 0, 0, 0, 0, 0, 0, 0, 0, 0, 0, 0, 0, 0, 0, 0,\n",
            "        0, 0, 0, 0, 0, 0, 0, 0, 0, 0, 0, 0, 0, 0, 0, 0, 0, 0, 0, 0, 0, 0, 0, 0,\n",
            "        0, 0, 0, 0, 0, 0, 0, 0, 0, 0, 0, 0, 0, 0, 0, 0, 0, 0, 0, 0, 0, 0, 0, 0,\n",
            "        0, 0, 0, 0, 0, 0, 0, 0])\n"
          ]
        }
      ],
      "source": [
        "print(tokenizer.convert_ids_to_tokens(encoding[\"input_ids\"][0]))\n",
        "print(encoding[\"input_ids\"][0])\n",
        "print(encoding[\"attention_mask\"][0])"
      ]
    },
    {
      "cell_type": "code",
      "execution_count": 13,
      "id": "6a58d46d",
      "metadata": {
        "id": "6a58d46d"
      },
      "outputs": [],
      "source": [
        "# CREACION DEL DATASET\n",
        "\n",
        "class CustomDataset(Dataset):\n",
        "    def __init__(self, text, labels, tokenizer, max_len):\n",
        "        self.text = text\n",
        "        self.labels = labels\n",
        "        self.tokenizer = tokenizer\n",
        "        self.max_len = max_len\n",
        "\n",
        "    def __len__(self):\n",
        "      return len(self.text)\n",
        "\n",
        "    def __getitem__(self, item):\n",
        "      text = str(self.text[item])\n",
        "      label = self.labels[item]\n",
        "      encoding = tokenizer.encode_plus(\n",
        "          text,\n",
        "          add_special_tokens=True,\n",
        "          max_length=self.max_len,\n",
        "          return_token_type_ids=False,\n",
        "          pad_to_max_length=True,\n",
        "          truncation=True,\n",
        "          return_attention_mask=True,\n",
        "          return_tensors=\"pt\",\n",
        "      )\n",
        "      return {\"text\": text,\n",
        "                \"input_ids\": encoding[\"input_ids\"].flatten(),\n",
        "                \"attention_mask\": encoding[\"attention_mask\"].flatten(),\n",
        "                \"labels\": torch.tensor(label, dtype=torch.long)}\n"
      ]
    },
    {
      "cell_type": "code",
      "execution_count": 14,
      "id": "62b3a9f7",
      "metadata": {
        "id": "62b3a9f7"
      },
      "outputs": [],
      "source": [
        "# Data Loader:\n",
        "\n",
        "def data_loader(df, tokenizer, max_len, batch_size):\n",
        "    dataset = CustomDataset(\n",
        "        text = df[\"Concatenado1\"].to_numpy(),\n",
        "        labels = df[\"Label_Grupo\"].to_numpy(),\n",
        "        tokenizer = tokenizer,\n",
        "        max_len = MAX_LEN\n",
        "    )\n",
        "    return DataLoader(dataset, batch_size = BATCH_SIZE, num_workers = 4)\n"
      ]
    },
    {
      "cell_type": "code",
      "execution_count": 15,
      "id": "21a3ddeb",
      "metadata": {
        "colab": {
          "base_uri": "https://localhost:8080/"
        },
        "id": "21a3ddeb",
        "outputId": "3b6d044f-a432-4b31-c2ae-e5fc63e57a7a"
      },
      "outputs": [],
      "source": [
        "df_train, df_test = train_test_split(df, test_size=0.2, random_state=RANDOM_SEED)\n",
        "\n",
        "train_data_loader = data_loader(df_train, tokenizer, MAX_LEN, BATCH_SIZE)\n",
        "test_data_loader = data_loader(df_test, tokenizer, MAX_LEN, BATCH_SIZE)"
      ]
    },
    {
      "cell_type": "code",
      "execution_count": 16,
      "id": "92950448",
      "metadata": {
        "id": "92950448"
      },
      "outputs": [],
      "source": [
        "# Cargamos el modelo BERT\n",
        "\n",
        "class BERTTextClassifier(nn.Module):\n",
        "    def __init__(self, n_classes):\n",
        "        super(BERTTextClassifier, self).__init__()\n",
        "        self.bert = BertModel.from_pretrained(PRE_TRAINED_MODEL_NAME)\n",
        "        self.dropout = nn.Dropout(0.3)\n",
        "        self.linear = nn.Linear(self.bert.config.hidden_size, n_classes)\n",
        "\n",
        "    def forward(self, input_ids, attention_mask):\n",
        "      outputs = self.bert(\n",
        "          input_ids = input_ids,\n",
        "          attention_mask = attention_mask\n",
        "      )\n",
        "      pooled_out = outputs.pooler_output\n",
        "      drop_out = self.dropout(pooled_out)\n",
        "      output = self.linear(drop_out)\n",
        "      return output\n"
      ]
    },
    {
      "cell_type": "code",
      "execution_count": 17,
      "id": "23793bee",
      "metadata": {
        "id": "23793bee"
      },
      "outputs": [
        {
          "name": "stderr",
          "output_type": "stream",
          "text": [
            "Xet Storage is enabled for this repo, but the 'hf_xet' package is not installed. Falling back to regular HTTP download. For better performance, install the package with: `pip install huggingface_hub[hf_xet]` or `pip install hf_xet`\n"
          ]
        },
        {
          "data": {
            "application/vnd.jupyter.widget-view+json": {
              "model_id": "a7f224a0aa7a4e8e8f3b6e007c2afa59",
              "version_major": 2,
              "version_minor": 0
            },
            "text/plain": [
              "model.safetensors:   0%|          | 0.00/714M [00:00<?, ?B/s]"
            ]
          },
          "metadata": {},
          "output_type": "display_data"
        },
        {
          "name": "stderr",
          "output_type": "stream",
          "text": [
            "c:\\Users\\ISAIAS_QUINTERO\\Desktop\\Trabajo Practica\\venv\\lib\\site-packages\\huggingface_hub\\file_download.py:144: UserWarning: `huggingface_hub` cache-system uses symlinks by default to efficiently store duplicated files but your machine does not support them in C:\\Users\\ISAIAS_QUINTERO\\.cache\\huggingface\\hub\\models--bert-base-multilingual-cased. Caching files will still work but in a degraded version that might require more space on your disk. This warning can be disabled by setting the `HF_HUB_DISABLE_SYMLINKS_WARNING` environment variable. For more details, see https://huggingface.co/docs/huggingface_hub/how-to-cache#limitations.\n",
            "To support symlinks on Windows, you either need to activate Developer Mode or to run Python as an administrator. In order to activate developer mode, see this article: https://docs.microsoft.com/en-us/windows/apps/get-started/enable-your-device-for-development\n",
            "  warnings.warn(message)\n"
          ]
        }
      ],
      "source": [
        "model = BERTTextClassifier(NCLASS)\n",
        "model = model.to(device)"
      ]
    },
    {
      "cell_type": "code",
      "execution_count": 18,
      "id": "a45f4fdf",
      "metadata": {
        "colab": {
          "base_uri": "https://localhost:8080/"
        },
        "id": "a45f4fdf",
        "outputId": "b78a62a4-232f-49ee-c143-18cf958da96d"
      },
      "outputs": [
        {
          "name": "stdout",
          "output_type": "stream",
          "text": [
            "BERTTextClassifier(\n",
            "  (bert): BertModel(\n",
            "    (embeddings): BertEmbeddings(\n",
            "      (word_embeddings): Embedding(119547, 768, padding_idx=0)\n",
            "      (position_embeddings): Embedding(512, 768)\n",
            "      (token_type_embeddings): Embedding(2, 768)\n",
            "      (LayerNorm): LayerNorm((768,), eps=1e-12, elementwise_affine=True)\n",
            "      (dropout): Dropout(p=0.1, inplace=False)\n",
            "    )\n",
            "    (encoder): BertEncoder(\n",
            "      (layer): ModuleList(\n",
            "        (0-11): 12 x BertLayer(\n",
            "          (attention): BertAttention(\n",
            "            (self): BertSelfAttention(\n",
            "              (query): Linear(in_features=768, out_features=768, bias=True)\n",
            "              (key): Linear(in_features=768, out_features=768, bias=True)\n",
            "              (value): Linear(in_features=768, out_features=768, bias=True)\n",
            "              (dropout): Dropout(p=0.1, inplace=False)\n",
            "            )\n",
            "            (output): BertSelfOutput(\n",
            "              (dense): Linear(in_features=768, out_features=768, bias=True)\n",
            "              (LayerNorm): LayerNorm((768,), eps=1e-12, elementwise_affine=True)\n",
            "              (dropout): Dropout(p=0.1, inplace=False)\n",
            "            )\n",
            "          )\n",
            "          (intermediate): BertIntermediate(\n",
            "            (dense): Linear(in_features=768, out_features=3072, bias=True)\n",
            "            (intermediate_act_fn): GELUActivation()\n",
            "          )\n",
            "          (output): BertOutput(\n",
            "            (dense): Linear(in_features=3072, out_features=768, bias=True)\n",
            "            (LayerNorm): LayerNorm((768,), eps=1e-12, elementwise_affine=True)\n",
            "            (dropout): Dropout(p=0.1, inplace=False)\n",
            "          )\n",
            "        )\n",
            "      )\n",
            "    )\n",
            "    (pooler): BertPooler(\n",
            "      (dense): Linear(in_features=768, out_features=768, bias=True)\n",
            "      (activation): Tanh()\n",
            "    )\n",
            "  )\n",
            "  (dropout): Dropout(p=0.3, inplace=False)\n",
            "  (linear): Linear(in_features=768, out_features=6, bias=True)\n",
            ")\n"
          ]
        }
      ],
      "source": [
        "print(model)"
      ]
    },
    {
      "cell_type": "code",
      "execution_count": 19,
      "id": "Hk0wDL2XkDuu",
      "metadata": {
        "id": "Hk0wDL2XkDuu"
      },
      "outputs": [],
      "source": [
        "# ENTRENAMIENTO\n",
        "\n",
        "EPOCHS = 5\n",
        "optimizer = optim.AdamW(model.parameters(), lr=2e-5)\n",
        "total_steps = (train_data_loader.batch_size) * EPOCHS\n",
        "scheduler = get_linear_schedule_with_warmup(\n",
        "    optimizer,\n",
        "    num_warmup_steps = 0,\n",
        "    num_training_steps = total_steps\n",
        ")\n",
        "\n",
        "loss_fn = nn.CrossEntropyLoss().to(device)"
      ]
    },
    {
      "cell_type": "code",
      "execution_count": 20,
      "id": "9BN0cgl4mwGB",
      "metadata": {
        "id": "9BN0cgl4mwGB"
      },
      "outputs": [],
      "source": [
        "# Iteracion de Entranamiento\n",
        "\n",
        "def train_model(model, data_loader, loss_fn, optimizer, device, scheduler, n_examples):\n",
        "    model = model.train()\n",
        "    losses = []\n",
        "    correct_predictions = 0\n",
        "    for batch in data_loader:\n",
        "        input_ids = batch[\"input_ids\"].to(device)\n",
        "        attention_mask = batch[\"attention_mask\"].to(device)\n",
        "        labels = batch[\"labels\"].to(device)\n",
        "        outputs = model(input_ids = input_ids, attention_mask = attention_mask)\n",
        "        _, preds = torch.max(outputs, dim=1)\n",
        "        loss = loss_fn(outputs, labels)\n",
        "        correct_predictions += torch.sum(preds == labels)\n",
        "        losses.append(loss.item())\n",
        "        loss.backward()\n",
        "        nn.utils.clip_grad_norm_(model.parameters(), max_norm=1.0)\n",
        "        optimizer.step()\n",
        "        scheduler.step()\n",
        "        optimizer.zero_grad()\n",
        "    return correct_predictions.double() / n_examples, np.mean(losses)\n",
        "\n",
        "def eval_model(model, data_loader, loss_fn, device, n_examples):\n",
        "    model = model.eval()\n",
        "    losses = []\n",
        "    correct_predictions = 0\n",
        "    with torch.no_grad():\n",
        "        for batch in data_loader:\n",
        "            input_ids = batch[\"input_ids\"].to(device)\n",
        "            attention_mask = batch[\"attention_mask\"].to(device)\n",
        "            labels = batch[\"labels\"].to(device)\n",
        "            outputs = model(input_ids = input_ids, attention_mask = attention_mask)\n",
        "            _, preds = torch.max(outputs, dim=1)\n",
        "            loss = loss_fn(outputs, labels)\n",
        "            correct_predictions += torch.sum(preds == labels)\n",
        "            losses.append(loss.item())\n",
        "    return correct_predictions.double() / n_examples, np.mean(losses)"
      ]
    },
    {
      "cell_type": "code",
      "execution_count": 21,
      "id": "dT9Qi8pYqIGB",
      "metadata": {
        "colab": {
          "base_uri": "https://localhost:8080/"
        },
        "id": "dT9Qi8pYqIGB",
        "outputId": "10b555cc-54ee-43e9-e5b3-97a9ae135a38"
      },
      "outputs": [
        {
          "data": {
            "text/plain": [
              "754"
            ]
          },
          "execution_count": 21,
          "metadata": {},
          "output_type": "execute_result"
        }
      ],
      "source": [
        "len(df_train)"
      ]
    },
    {
      "cell_type": "code",
      "execution_count": null,
      "id": "atUmLe2wo1-i",
      "metadata": {
        "colab": {
          "base_uri": "https://localhost:8080/"
        },
        "id": "atUmLe2wo1-i",
        "outputId": "6675b913-1f23-4b94-d356-9f73e8c02b2c"
      },
      "outputs": [
        {
          "name": "stdout",
          "output_type": "stream",
          "text": [
            "Epoch 1 de 5\n",
            "-----------------------------------\n"
          ]
        }
      ],
      "source": [
        "# Entrenamiento del Modelo\n",
        "\n",
        "for epoch in range(EPOCHS):\n",
        "  print(\"Epoch {} de {}\".format(epoch + 1, EPOCHS))\n",
        "  print(\"-----------------------------------\")\n",
        "\n",
        "  train_acc, train_loss = train_model(model, train_data_loader, loss_fn, optimizer, device, scheduler, len(df_train))\n",
        "\n",
        "  test_acc, test_loss = eval_model(model, test_data_loader, loss_fn, device, len(df_test))\n",
        "\n",
        "  print(\"Entramiento: Loss: {}, accuracy: {}\".format(train_loss, train_acc))\n",
        "  print(\"Evaluacion: Loss: {}, accuracy: {}\".format(test_loss, test_acc))\n",
        "  print(\"\")\n"
      ]
    },
    {
      "cell_type": "code",
      "execution_count": null,
      "id": "g6czakH8zPnU",
      "metadata": {
        "id": "g6czakH8zPnU"
      },
      "outputs": [],
      "source": []
    },
    {
      "cell_type": "code",
      "execution_count": null,
      "id": "H207Ir-budr_",
      "metadata": {
        "id": "H207Ir-budr_"
      },
      "outputs": [],
      "source": []
    }
  ],
  "metadata": {
    "accelerator": "GPU",
    "colab": {
      "gpuType": "T4",
      "provenance": []
    },
    "kernelspec": {
      "display_name": "venv",
      "language": "python",
      "name": "python3"
    },
    "language_info": {
      "codemirror_mode": {
        "name": "ipython",
        "version": 3
      },
      "file_extension": ".py",
      "mimetype": "text/x-python",
      "name": "python",
      "nbconvert_exporter": "python",
      "pygments_lexer": "ipython3",
      "version": "3.8.0"
    }
  },
  "nbformat": 4,
  "nbformat_minor": 5
}
